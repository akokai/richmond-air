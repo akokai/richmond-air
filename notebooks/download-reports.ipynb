{
 "metadata": {
  "name": "",
  "signature": "sha256:310488485d24e0d7a599a86f253c26f5ffec59c6b81abd0c3907c02d9b361714"
 },
 "nbformat": 3,
 "nbformat_minor": 0,
 "worksheets": [
  {
   "cells": [
    {
     "cell_type": "code",
     "collapsed": false,
     "input": [
      "import pandas as pd\n",
      "from pandas import DataFrame\n",
      "import lxml\n",
      "from lxml.html import parse\n",
      "import urllib.request"
     ],
     "language": "python",
     "metadata": {},
     "outputs": [],
     "prompt_number": 1
    },
    {
     "cell_type": "code",
     "collapsed": false,
     "input": [
      "# List of links to reports at http://fenceline.org/richmond/report.php\n",
      "urlbase = 'http://fenceline.org/richmond/report.php'\n",
      "r = urllib.request.urlopen(urlbase)\n",
      "parsed = parse(r)\n",
      "doc = parsed.getroot()"
     ],
     "language": "python",
     "metadata": {},
     "outputs": [],
     "prompt_number": 2
    },
    {
     "cell_type": "code",
     "collapsed": false,
     "input": [
      "links = [(lnk.get('href'), lnk.text_content()) for lnk in doc.findall('.//a')]\n",
      "links"
     ],
     "language": "python",
     "metadata": {},
     "outputs": [
      {
       "metadata": {},
       "output_type": "pyout",
       "prompt_number": 3,
       "text": [
        "[('index.htm', ''),\n",
        " ('learn.htm', ''),\n",
        " ('resources.htm', ''),\n",
        " ('data.php', ''),\n",
        " ('report.htm', ''),\n",
        " ('report.php?download=monthly/RCAMP_Monthly_Report_MO_22 (January 2015).pdf',\n",
        "  'RCAMP_Monthly_Report_MO_22 (January 2015)'),\n",
        " ('report.php?download=monthly/RCAMP_Monthly_Report_MO_21 (December 2014).pdf',\n",
        "  'RCAMP_Monthly_Report_MO_21 (December 2014)'),\n",
        " ('report.php?download=monthly/RCAMP_Monthly_Report_MO_20 (November 2014).pdf',\n",
        "  'RCAMP_Monthly_Report_MO_20 (November 2014)'),\n",
        " ('report.php?download=monthly/RCAMP_Monthly_Report_MO_19 (October 2014).pdf',\n",
        "  'RCAMP_Monthly_Report_MO_19 (October 2014)'),\n",
        " ('report.php?download=monthly/RCAMP_Monthly_Report_MO_18 (September 2014).pdf',\n",
        "  'RCAMP_Monthly_Report_MO_18 (September 2014)'),\n",
        " ('report.php?download=monthly/RCAMP_Monthly_Report_MO_17 (August 2014).pdf',\n",
        "  'RCAMP_Monthly_Report_MO_17 (August 2014)'),\n",
        " ('report.php?download=monthly/RCAMP_Monthly_Report_MO_16 (July 2014).pdf',\n",
        "  'RCAMP_Monthly_Report_MO_16 (July 2014)'),\n",
        " ('report.php?download=monthly/RCAMP_Monthly_Report_MO_15 (June 2014).pdf',\n",
        "  'RCAMP_Monthly_Report_MO_15 (June 2014)'),\n",
        " ('report.php?download=monthly/RCAMP_Monthly_Report_MO_14 (May 2014).pdf',\n",
        "  'RCAMP_Monthly_Report_MO_14 (May 2014)'),\n",
        " ('report.php?download=monthly/RCAMP_Monthly_Report_MO_13 (April 2014).pdf',\n",
        "  'RCAMP_Monthly_Report_MO_13 (April 2014)'),\n",
        " ('report.php?download=monthly/RCAMP_Monthly_Report_MO_12 (March 2014).pdf',\n",
        "  'RCAMP_Monthly_Report_MO_12 (March 2014)'),\n",
        " ('report.php?download=monthly/RCAMP_Monthly_Report_MO_11 (February 2014).pdf',\n",
        "  'RCAMP_Monthly_Report_MO_11 (February 2014)'),\n",
        " ('report.php?download=monthly/RCAMP_Monthly_Report_MO_10 (January 2014).pdf',\n",
        "  'RCAMP_Monthly_Report_MO_10 (January 2014)'),\n",
        " ('report.php?download=monthly/RCAMP_Monthly_Report_MO_09 (December 2013).pdf',\n",
        "  'RCAMP_Monthly_Report_MO_09 (December 2013)'),\n",
        " ('report.php?download=monthly/RCAMP_Monthly_Report_MO_08 (November 2013).pdf',\n",
        "  'RCAMP_Monthly_Report_MO_08 (November 2013)'),\n",
        " ('report.php?download=monthly/RCAMP_Monthly_Report_MO_7 (October 2013).pdf',\n",
        "  'RCAMP_Monthly_Report_MO_7 (October 2013)'),\n",
        " ('report.php?download=monthly/RCAMP_Monthly_Report_MO_6 (September 2013).pdf',\n",
        "  'RCAMP_Monthly_Report_MO_6 (September 2013)'),\n",
        " ('report.php?download=monthly/RCAMP_Monthly_Report_MO_5 (August 2013).pdf',\n",
        "  'RCAMP_Monthly_Report_MO_5 (August 2013)'),\n",
        " ('report.php?download=monthly/RCAMP_Monthly_Report_MO_4 (July 2013).pdf',\n",
        "  'RCAMP_Monthly_Report_MO_4 (July 2013)'),\n",
        " ('report.php?download=monthly/RCAMP_Monthly_Report_MO_3 (June 2013).pdf',\n",
        "  'RCAMP_Monthly_Report_MO_3 (June 2013)'),\n",
        " ('report.php?download=monthly/RCAMP_Monthly_Report_MO2 (May 2013).pdf',\n",
        "  'RCAMP_Monthly_Report_MO2 (May 2013)'),\n",
        " ('report.php?download=monthly/RCAMP _Monthly_Report_MO1 (April 2013).pdf',\n",
        "  'RCAMP _Monthly_Report_MO1 (April 2013)'),\n",
        " ('report.php?download=event/RCAMP_Event_Report_EV_20 (November 2014).pdf',\n",
        "  'RCAMP_Event_Report_EV_20 (November 2014)'),\n",
        " ('report.php?download=event/RCAMP_Event_Report_EV_19 (October 2014).pdf',\n",
        "  'RCAMP_Event_Report_EV_19 (October 2014)'),\n",
        " ('report.php?download=event/RCAMP_Event_Report_EV_18 (September 2014).pdf',\n",
        "  'RCAMP_Event_Report_EV_18 (September 2014)'),\n",
        " ('report.php?download=event/RCAMP_Event_Report_EV_17 (August 2014).pdf',\n",
        "  'RCAMP_Event_Report_EV_17 (August 2014)'),\n",
        " ('report.php?download=event/RCAMP_Event_Report_EV_16 (July 2014).pdf',\n",
        "  'RCAMP_Event_Report_EV_16 (July 2014)'),\n",
        " ('report.php?download=event/RCAMP_Event_Report_EV_15 (June 2014).pdf',\n",
        "  'RCAMP_Event_Report_EV_15 (June 2014)'),\n",
        " ('report.php?download=event/RCAMP_Event_Report_EV_14 (May 2014).pdf',\n",
        "  'RCAMP_Event_Report_EV_14 (May 2014)'),\n",
        " ('report.php?download=event/RCAMP_Event_Report_EV_13 (April 2014).pdf',\n",
        "  'RCAMP_Event_Report_EV_13 (April 2014)'),\n",
        " ('report.php?download=event/RCAMP_Event_Report_EV_12 (March 2014).pdf',\n",
        "  'RCAMP_Event_Report_EV_12 (March 2014)'),\n",
        " ('report.php?download=event/RCAMP_Event_Report_EV_10 (January 2014).pdf',\n",
        "  'RCAMP_Event_Report_EV_10 (January 2014)'),\n",
        " ('report.php?download=incident/Summary Report for 12-18-2014 Event.pdf',\n",
        "  'Summary Report for 12-18-2014 Event')]"
       ]
      }
     ],
     "prompt_number": 3
    },
    {
     "cell_type": "code",
     "collapsed": false,
     "input": [
      "# Download them all...\n",
      "# Note that some of the filenames have irregularities,\n",
      "# which I will fix after downloading.\n",
      "for lnk in links[5:]:\n",
      "    q = lnk[0].split('?')[1].split('=')\n",
      "    p = urllib.parse.urlencode({q[0]: q[1]})\n",
      "    urllib.request.urlretrieve(urlbase + '?{0}'.format(p), '../data/{0}.pdf'.format(lnk[1]))"
     ],
     "language": "python",
     "metadata": {},
     "outputs": [],
     "prompt_number": 4
    }
   ],
   "metadata": {}
  }
 ]
}