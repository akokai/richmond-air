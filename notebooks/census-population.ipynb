{
 "cells": [
  {
   "cell_type": "code",
   "execution_count": 1,
   "metadata": {
    "collapsed": false
   },
   "outputs": [],
   "source": [
    "import settings\n",
    "import requests\n",
    "import json\n",
    "import pandas as pd\n",
    "from pandas import DataFrame, Series"
   ]
  },
  {
   "cell_type": "code",
   "execution_count": 2,
   "metadata": {
    "collapsed": true
   },
   "outputs": [],
   "source": [
    "# Race and ethnicity classified population fields from US Census:\n",
    "P005_vars_list = ['P0050001', 'P0050003', 'P0050004', 'P0050005', 'P0050006',\n",
    "                  'P0050007', 'P0050008', 'P0050009', 'P0050010']\n",
    "\n",
    "# Get 2010 US Census (SF1) data for all tracts in Contra Costa County:\n",
    "r = requests.get('http://api.census.gov/data/2010/sf1?key={0}&get={1}&for=tract:*\\\n",
    "&in=state:06+county:013'.format(settings.CENSUS_KEY, ','.join(P005_vars_list)))"
   ]
  },
  {
   "cell_type": "code",
   "execution_count": 3,
   "metadata": {
    "collapsed": false
   },
   "outputs": [],
   "source": [
    "# Definitions for manipulating the data to conform to these particular racial categories:\n",
    "def sum_race_categories(x):\n",
    "    return Series({'Tract':x['tract'],\n",
    "                   'Total':x['P0050001'],\n",
    "                   'White':x['P0050003'],\n",
    "                   'Black':x['P0050004'],\n",
    "                   'Asian':x['P0050006'],\n",
    "                   'Hispanic':x['P0050010'],\n",
    "                   'Other': x['P0050005'] + x['P0050007'] + x['P0050008'] + x['P0050009'],\n",
    "                   }, index=['Tract', 'Total', 'White', 'Black', 'Hispanic', 'Asian', 'Other'])\n",
    "\n",
    "def race_p(r):\n",
    "    si = ['p_White', 'p_Black', 'p_Hispanic', 'p_Asian', 'p_Other']\n",
    "    if r['Total'] == 0:\n",
    "        return Series(dict(zip(si,5*[0])), index=si)\n",
    "    else:\n",
    "        return Series({'p_White': r['White']/r['Total'],\n",
    "                       'p_Black': r['Black']/r['Total'],\n",
    "                       'p_Hispanic': r['Hispanic']/r['Total'],\n",
    "                       'p_Asian': r['Asian']/r['Total'],\n",
    "                       'p_Other': r['Other']/r['Total']\n",
    "                       }, index=si)"
   ]
  },
  {
   "cell_type": "code",
   "execution_count": 4,
   "metadata": {
    "collapsed": false
   },
   "outputs": [
    {
     "data": {
      "text/html": [
       "<div style=\"max-height:1000px;max-width:1500px;overflow:auto;\">\n",
       "<table border=\"1\" class=\"dataframe\">\n",
       "  <thead>\n",
       "    <tr style=\"text-align: right;\">\n",
       "      <th></th>\n",
       "      <th>P0050001</th>\n",
       "      <th>P0050003</th>\n",
       "      <th>P0050004</th>\n",
       "      <th>P0050005</th>\n",
       "      <th>P0050006</th>\n",
       "      <th>P0050007</th>\n",
       "      <th>P0050008</th>\n",
       "      <th>P0050009</th>\n",
       "      <th>P0050010</th>\n",
       "      <th>state</th>\n",
       "      <th>county</th>\n",
       "      <th>tract</th>\n",
       "    </tr>\n",
       "  </thead>\n",
       "  <tbody>\n",
       "    <tr>\n",
       "      <th>0</th>\n",
       "      <td> 3659</td>\n",
       "      <td> 2590</td>\n",
       "      <td> 171</td>\n",
       "      <td> 17</td>\n",
       "      <td> 153</td>\n",
       "      <td>  6</td>\n",
       "      <td>  7</td>\n",
       "      <td> 118</td>\n",
       "      <td>  597</td>\n",
       "      <td> 06</td>\n",
       "      <td> 013</td>\n",
       "      <td> 301000</td>\n",
       "    </tr>\n",
       "    <tr>\n",
       "      <th>1</th>\n",
       "      <td> 6592</td>\n",
       "      <td> 3046</td>\n",
       "      <td> 447</td>\n",
       "      <td> 50</td>\n",
       "      <td> 188</td>\n",
       "      <td> 38</td>\n",
       "      <td> 18</td>\n",
       "      <td> 226</td>\n",
       "      <td> 2579</td>\n",
       "      <td> 06</td>\n",
       "      <td> 013</td>\n",
       "      <td> 302005</td>\n",
       "    </tr>\n",
       "    <tr>\n",
       "      <th>2</th>\n",
       "      <td> 3779</td>\n",
       "      <td> 1958</td>\n",
       "      <td> 263</td>\n",
       "      <td> 23</td>\n",
       "      <td> 164</td>\n",
       "      <td> 14</td>\n",
       "      <td>  5</td>\n",
       "      <td> 149</td>\n",
       "      <td> 1203</td>\n",
       "      <td> 06</td>\n",
       "      <td> 013</td>\n",
       "      <td> 302006</td>\n",
       "    </tr>\n",
       "    <tr>\n",
       "      <th>3</th>\n",
       "      <td> 6347</td>\n",
       "      <td> 2690</td>\n",
       "      <td> 434</td>\n",
       "      <td> 26</td>\n",
       "      <td> 399</td>\n",
       "      <td> 20</td>\n",
       "      <td> 20</td>\n",
       "      <td> 209</td>\n",
       "      <td> 2549</td>\n",
       "      <td> 06</td>\n",
       "      <td> 013</td>\n",
       "      <td> 302007</td>\n",
       "    </tr>\n",
       "    <tr>\n",
       "      <th>4</th>\n",
       "      <td> 7718</td>\n",
       "      <td> 3062</td>\n",
       "      <td> 716</td>\n",
       "      <td> 43</td>\n",
       "      <td> 556</td>\n",
       "      <td> 22</td>\n",
       "      <td> 15</td>\n",
       "      <td> 306</td>\n",
       "      <td> 2998</td>\n",
       "      <td> 06</td>\n",
       "      <td> 013</td>\n",
       "      <td> 302008</td>\n",
       "    </tr>\n",
       "  </tbody>\n",
       "</table>\n",
       "</div>"
      ],
      "text/plain": [
       "   P0050001  P0050003  P0050004  P0050005  P0050006  P0050007  P0050008  \\\n",
       "0      3659      2590       171        17       153         6         7   \n",
       "1      6592      3046       447        50       188        38        18   \n",
       "2      3779      1958       263        23       164        14         5   \n",
       "3      6347      2690       434        26       399        20        20   \n",
       "4      7718      3062       716        43       556        22        15   \n",
       "\n",
       "   P0050009  P0050010 state county   tract  \n",
       "0       118       597    06    013  301000  \n",
       "1       226      2579    06    013  302005  \n",
       "2       149      1203    06    013  302006  \n",
       "3       209      2549    06    013  302007  \n",
       "4       306      2998    06    013  302008  "
      ]
     },
     "execution_count": 4,
     "metadata": {},
     "output_type": "execute_result"
    }
   ],
   "source": [
    "j = json.loads(r.text)\n",
    "df1 = DataFrame(j[1:], columns=j[0])\n",
    "df1[P005_vars_list] = df1[P005_vars_list].astype('int')\n",
    "df1.head()"
   ]
  },
  {
   "cell_type": "code",
   "execution_count": 5,
   "metadata": {
    "collapsed": false,
    "scrolled": true
   },
   "outputs": [
    {
     "data": {
      "text/html": [
       "<div style=\"max-height:1000px;max-width:1500px;overflow:auto;\">\n",
       "<table border=\"1\" class=\"dataframe\">\n",
       "  <thead>\n",
       "    <tr style=\"text-align: right;\">\n",
       "      <th></th>\n",
       "      <th>Tract</th>\n",
       "      <th>Total</th>\n",
       "      <th>White</th>\n",
       "      <th>Black</th>\n",
       "      <th>Hispanic</th>\n",
       "      <th>Asian</th>\n",
       "      <th>Other</th>\n",
       "      <th>p_White</th>\n",
       "      <th>p_Black</th>\n",
       "      <th>p_Hispanic</th>\n",
       "      <th>p_Asian</th>\n",
       "      <th>p_Other</th>\n",
       "    </tr>\n",
       "  </thead>\n",
       "  <tbody>\n",
       "    <tr>\n",
       "      <th>0</th>\n",
       "      <td> 301000</td>\n",
       "      <td> 3659</td>\n",
       "      <td> 2590</td>\n",
       "      <td> 171</td>\n",
       "      <td>  597</td>\n",
       "      <td> 153</td>\n",
       "      <td> 148</td>\n",
       "      <td> 0.707844</td>\n",
       "      <td> 0.046734</td>\n",
       "      <td> 0.163159</td>\n",
       "      <td> 0.041815</td>\n",
       "      <td> 0.040448</td>\n",
       "    </tr>\n",
       "    <tr>\n",
       "      <th>1</th>\n",
       "      <td> 302005</td>\n",
       "      <td> 6592</td>\n",
       "      <td> 3046</td>\n",
       "      <td> 447</td>\n",
       "      <td> 2579</td>\n",
       "      <td> 188</td>\n",
       "      <td> 332</td>\n",
       "      <td> 0.462075</td>\n",
       "      <td> 0.067809</td>\n",
       "      <td> 0.391232</td>\n",
       "      <td> 0.028519</td>\n",
       "      <td> 0.050364</td>\n",
       "    </tr>\n",
       "    <tr>\n",
       "      <th>2</th>\n",
       "      <td> 302006</td>\n",
       "      <td> 3779</td>\n",
       "      <td> 1958</td>\n",
       "      <td> 263</td>\n",
       "      <td> 1203</td>\n",
       "      <td> 164</td>\n",
       "      <td> 191</td>\n",
       "      <td> 0.518126</td>\n",
       "      <td> 0.069595</td>\n",
       "      <td> 0.318338</td>\n",
       "      <td> 0.043398</td>\n",
       "      <td> 0.050542</td>\n",
       "    </tr>\n",
       "    <tr>\n",
       "      <th>3</th>\n",
       "      <td> 302007</td>\n",
       "      <td> 6347</td>\n",
       "      <td> 2690</td>\n",
       "      <td> 434</td>\n",
       "      <td> 2549</td>\n",
       "      <td> 399</td>\n",
       "      <td> 275</td>\n",
       "      <td> 0.423822</td>\n",
       "      <td> 0.068379</td>\n",
       "      <td> 0.401607</td>\n",
       "      <td> 0.062864</td>\n",
       "      <td> 0.043328</td>\n",
       "    </tr>\n",
       "    <tr>\n",
       "      <th>4</th>\n",
       "      <td> 302008</td>\n",
       "      <td> 7718</td>\n",
       "      <td> 3062</td>\n",
       "      <td> 716</td>\n",
       "      <td> 2998</td>\n",
       "      <td> 556</td>\n",
       "      <td> 386</td>\n",
       "      <td> 0.396735</td>\n",
       "      <td> 0.092770</td>\n",
       "      <td> 0.388443</td>\n",
       "      <td> 0.072039</td>\n",
       "      <td> 0.050013</td>\n",
       "    </tr>\n",
       "  </tbody>\n",
       "</table>\n",
       "</div>"
      ],
      "text/plain": [
       "    Tract  Total  White  Black  Hispanic  Asian  Other   p_White   p_Black  \\\n",
       "0  301000   3659   2590    171       597    153    148  0.707844  0.046734   \n",
       "1  302005   6592   3046    447      2579    188    332  0.462075  0.067809   \n",
       "2  302006   3779   1958    263      1203    164    191  0.518126  0.069595   \n",
       "3  302007   6347   2690    434      2549    399    275  0.423822  0.068379   \n",
       "4  302008   7718   3062    716      2998    556    386  0.396735  0.092770   \n",
       "\n",
       "   p_Hispanic   p_Asian   p_Other  \n",
       "0    0.163159  0.041815  0.040448  \n",
       "1    0.391232  0.028519  0.050364  \n",
       "2    0.318338  0.043398  0.050542  \n",
       "3    0.401607  0.062864  0.043328  \n",
       "4    0.388443  0.072039  0.050013  "
      ]
     },
     "execution_count": 5,
     "metadata": {},
     "output_type": "execute_result"
    }
   ],
   "source": [
    "df2 = df1.apply(sum_race_categories, axis=1)\n",
    "df2[['p_White', 'p_Black', 'p_Hispanic', 'p_Asian', 'p_Other']] = df2.apply(race_p, axis=1)\n",
    "df2.head()"
   ]
  },
  {
   "cell_type": "code",
   "execution_count": 6,
   "metadata": {
    "collapsed": false
   },
   "outputs": [
    {
     "data": {
      "text/html": [
       "<div style=\"max-height:1000px;max-width:1500px;overflow:auto;\">\n",
       "<table border=\"1\" class=\"dataframe\">\n",
       "  <thead>\n",
       "    <tr style=\"text-align: right;\">\n",
       "      <th></th>\n",
       "      <th>Tract</th>\n",
       "      <th>Total</th>\n",
       "      <th>White</th>\n",
       "      <th>Black</th>\n",
       "      <th>Hispanic</th>\n",
       "      <th>Asian</th>\n",
       "      <th>Other</th>\n",
       "      <th>p_White</th>\n",
       "      <th>p_Black</th>\n",
       "      <th>p_Hispanic</th>\n",
       "      <th>p_Asian</th>\n",
       "      <th>p_Other</th>\n",
       "    </tr>\n",
       "  </thead>\n",
       "  <tbody>\n",
       "    <tr>\n",
       "      <th>186</th>\n",
       "      <td> 377000</td>\n",
       "      <td> 6962</td>\n",
       "      <td> 487</td>\n",
       "      <td> 1600</td>\n",
       "      <td> 4396</td>\n",
       "      <td> 316</td>\n",
       "      <td> 163</td>\n",
       "      <td> 0.069951</td>\n",
       "      <td> 0.229819</td>\n",
       "      <td> 0.631428</td>\n",
       "      <td> 0.045389</td>\n",
       "      <td> 0.023413</td>\n",
       "    </tr>\n",
       "  </tbody>\n",
       "</table>\n",
       "</div>"
      ],
      "text/plain": [
       "      Tract  Total  White  Black  Hispanic  Asian  Other   p_White   p_Black  \\\n",
       "186  377000   6962    487   1600      4396    316    163  0.069951  0.229819   \n",
       "\n",
       "     p_Hispanic   p_Asian   p_Other  \n",
       "186    0.631428  0.045389  0.023413  "
      ]
     },
     "execution_count": 6,
     "metadata": {},
     "output_type": "execute_result"
    }
   ],
   "source": [
    "# The tract numbers labeled on the maps don't specify the last two digits\n",
    "# unless they are non-zero.\n",
    "df2[df2.Tract.str.contains('3770')]"
   ]
  },
  {
   "cell_type": "code",
   "execution_count": 7,
   "metadata": {
    "collapsed": false
   },
   "outputs": [
    {
     "data": {
      "text/html": [
       "<div style=\"max-height:1000px;max-width:1500px;overflow:auto;\">\n",
       "<table border=\"1\" class=\"dataframe\">\n",
       "  <thead>\n",
       "    <tr style=\"text-align: right;\">\n",
       "      <th></th>\n",
       "      <th>Tract</th>\n",
       "      <th>Total</th>\n",
       "      <th>White</th>\n",
       "      <th>Black</th>\n",
       "      <th>Hispanic</th>\n",
       "      <th>Asian</th>\n",
       "      <th>Other</th>\n",
       "      <th>p_White</th>\n",
       "      <th>p_Black</th>\n",
       "      <th>p_Hispanic</th>\n",
       "      <th>p_Asian</th>\n",
       "      <th>p_Other</th>\n",
       "    </tr>\n",
       "  </thead>\n",
       "  <tbody>\n",
       "    <tr>\n",
       "      <th>175</th>\n",
       "      <td> 368001</td>\n",
       "      <td> 5327</td>\n",
       "      <td> 298</td>\n",
       "      <td> 432</td>\n",
       "      <td> 4176</td>\n",
       "      <td> 333</td>\n",
       "      <td>  88</td>\n",
       "      <td> 0.055941</td>\n",
       "      <td> 0.081096</td>\n",
       "      <td> 0.783931</td>\n",
       "      <td> 0.062512</td>\n",
       "      <td> 0.016520</td>\n",
       "    </tr>\n",
       "    <tr>\n",
       "      <th>176</th>\n",
       "      <td> 368002</td>\n",
       "      <td> 3404</td>\n",
       "      <td> 275</td>\n",
       "      <td> 278</td>\n",
       "      <td> 2402</td>\n",
       "      <td> 333</td>\n",
       "      <td> 116</td>\n",
       "      <td> 0.080787</td>\n",
       "      <td> 0.081669</td>\n",
       "      <td> 0.705640</td>\n",
       "      <td> 0.097826</td>\n",
       "      <td> 0.034078</td>\n",
       "    </tr>\n",
       "  </tbody>\n",
       "</table>\n",
       "</div>"
      ],
      "text/plain": [
       "      Tract  Total  White  Black  Hispanic  Asian  Other   p_White   p_Black  \\\n",
       "175  368001   5327    298    432      4176    333     88  0.055941  0.081096   \n",
       "176  368002   3404    275    278      2402    333    116  0.080787  0.081669   \n",
       "\n",
       "     p_Hispanic   p_Asian   p_Other  \n",
       "175    0.783931  0.062512  0.016520  \n",
       "176    0.705640  0.097826  0.034078  "
      ]
     },
     "execution_count": 7,
     "metadata": {},
     "output_type": "execute_result"
    }
   ],
   "source": [
    "df2[df2.Tract.str.contains('3680')]"
   ]
  },
  {
   "cell_type": "code",
   "execution_count": 8,
   "metadata": {
    "collapsed": false
   },
   "outputs": [
    {
     "data": {
      "text/html": [
       "<div style=\"max-height:1000px;max-width:1500px;overflow:auto;\">\n",
       "<table border=\"1\" class=\"dataframe\">\n",
       "  <thead>\n",
       "    <tr style=\"text-align: right;\">\n",
       "      <th></th>\n",
       "      <th>Tract</th>\n",
       "      <th>Total</th>\n",
       "      <th>White</th>\n",
       "      <th>Black</th>\n",
       "      <th>Hispanic</th>\n",
       "      <th>Asian</th>\n",
       "      <th>Other</th>\n",
       "      <th>p_White</th>\n",
       "      <th>p_Black</th>\n",
       "      <th>p_Hispanic</th>\n",
       "      <th>p_Asian</th>\n",
       "      <th>p_Other</th>\n",
       "    </tr>\n",
       "  </thead>\n",
       "  <tbody>\n",
       "    <tr>\n",
       "      <th>169</th>\n",
       "      <td> 365002</td>\n",
       "      <td> 5462</td>\n",
       "      <td> 170</td>\n",
       "      <td> 1687</td>\n",
       "      <td> 2947</td>\n",
       "      <td> 451</td>\n",
       "      <td> 207</td>\n",
       "      <td> 0.031124</td>\n",
       "      <td> 0.308861</td>\n",
       "      <td> 0.539546</td>\n",
       "      <td> 0.082570</td>\n",
       "      <td> 0.037898</td>\n",
       "    </tr>\n",
       "    <tr>\n",
       "      <th>185</th>\n",
       "      <td> 376000</td>\n",
       "      <td> 5962</td>\n",
       "      <td> 198</td>\n",
       "      <td> 1882</td>\n",
       "      <td> 3339</td>\n",
       "      <td> 366</td>\n",
       "      <td> 177</td>\n",
       "      <td> 0.033210</td>\n",
       "      <td> 0.315666</td>\n",
       "      <td> 0.560047</td>\n",
       "      <td> 0.061389</td>\n",
       "      <td> 0.029688</td>\n",
       "    </tr>\n",
       "    <tr>\n",
       "      <th>186</th>\n",
       "      <td> 377000</td>\n",
       "      <td> 6962</td>\n",
       "      <td> 487</td>\n",
       "      <td> 1600</td>\n",
       "      <td> 4396</td>\n",
       "      <td> 316</td>\n",
       "      <td> 163</td>\n",
       "      <td> 0.069951</td>\n",
       "      <td> 0.229819</td>\n",
       "      <td> 0.631428</td>\n",
       "      <td> 0.045389</td>\n",
       "      <td> 0.023413</td>\n",
       "    </tr>\n",
       "  </tbody>\n",
       "</table>\n",
       "</div>"
      ],
      "text/plain": [
       "      Tract  Total  White  Black  Hispanic  Asian  Other   p_White   p_Black  \\\n",
       "169  365002   5462    170   1687      2947    451    207  0.031124  0.308861   \n",
       "185  376000   5962    198   1882      3339    366    177  0.033210  0.315666   \n",
       "186  377000   6962    487   1600      4396    316    163  0.069951  0.229819   \n",
       "\n",
       "     p_Hispanic   p_Asian   p_Other  \n",
       "169    0.539546  0.082570  0.037898  \n",
       "185    0.560047  0.061389  0.029688  \n",
       "186    0.631428  0.045389  0.023413  "
      ]
     },
     "execution_count": 8,
     "metadata": {},
     "output_type": "execute_result"
    }
   ],
   "source": [
    "# We probably want these... possibly also 3730, 3750?\n",
    "# Note: 3780 is Point Richmond. Includes a lot of area to the west, upwind.\n",
    "chevron_tracts = {'365002', '376000', '377000'}\n",
    "def in_fenceline(x):\n",
    "    return str(x) in chevron_tracts\n",
    "\n",
    "fenceline_df = df2[df2.Tract.apply(in_fenceline)]\n",
    "fenceline_df"
   ]
  },
  {
   "cell_type": "code",
   "execution_count": 9,
   "metadata": {
    "collapsed": false
   },
   "outputs": [
    {
     "data": {
      "text/plain": [
       "Total       18386\n",
       "White         855\n",
       "Black        5169\n",
       "Hispanic    10682\n",
       "Asian        1133\n",
       "Other         547\n",
       "dtype: int64"
      ]
     },
     "execution_count": 9,
     "metadata": {},
     "output_type": "execute_result"
    }
   ],
   "source": [
    "fenceline_df[['Total', 'White', 'Black', 'Hispanic', 'Asian', 'Other']].sum()"
   ]
  },
  {
   "cell_type": "code",
   "execution_count": 10,
   "metadata": {
    "collapsed": false
   },
   "outputs": [
    {
     "data": {
      "text/plain": [
       "p_White       0.044762\n",
       "p_Black       0.284782\n",
       "p_Hispanic    0.577007\n",
       "p_Asian       0.063116\n",
       "p_Other       0.030333\n",
       "dtype: float64"
      ]
     },
     "execution_count": 10,
     "metadata": {},
     "output_type": "execute_result"
    }
   ],
   "source": [
    "fenceline_df[['p_White', 'p_Black', 'p_Hispanic', 'p_Asian', 'p_Other']].mean()"
   ]
  },
  {
   "cell_type": "code",
   "execution_count": 11,
   "metadata": {
    "collapsed": false
   },
   "outputs": [
    {
     "data": {
      "text/plain": [
       "0.99999999999999989"
      ]
     },
     "execution_count": 11,
     "metadata": {},
     "output_type": "execute_result"
    }
   ],
   "source": [
    "fenceline_df[['p_White', 'p_Black', 'p_Hispanic', 'p_Asian', 'p_Other']].mean().sum()"
   ]
  }
 ],
 "metadata": {
  "kernelspec": {
   "display_name": "Python 3",
   "language": "python",
   "name": "python3"
  },
  "language_info": {
   "codemirror_mode": {
    "name": "ipython",
    "version": 3
   },
   "file_extension": ".py",
   "mimetype": "text/x-python",
   "name": "python",
   "nbconvert_exporter": "python",
   "pygments_lexer": "ipython3",
   "version": "3.4.3"
  }
 },
 "nbformat": 4,
 "nbformat_minor": 0
}
